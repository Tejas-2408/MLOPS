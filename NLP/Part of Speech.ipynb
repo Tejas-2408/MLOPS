{
 "cells": [
  {
   "cell_type": "markdown",
   "metadata": {},
   "source": [
    "### Pos Tags:\n",
    "\n",
    "1. CC: Coordinating conjunction (e.g. “and”, “or”, “but”)\n",
    "\n",
    "“We can go to the park or stay at home.”\n",
    "“She has a dog and a cat.”\n",
    "\n",
    "2. CD: Cardinal number (e.g. “one”, “two”, “three”)\n",
    "\n",
    "“I have three siblings.”\n",
    "“The temperature is 35 degrees Celsius.”\n",
    "\n",
    "3. DT: Determiner (e.g. “the”, “a”, “an”)\n",
    "\n",
    "“The cat is sleeping.”\n",
    "“A dog barked outside.”\n",
    "\n",
    "4. EX: Existential there (e.g. “there”)\n",
    "\n",
    "“There are many books on the shelf.”\n",
    "“Is there any sugar left?”\n",
    "\n",
    "5. FW: Foreign word (e.g. “bonjour”, “guten tag”)\n",
    "\n",
    "“I took a French class in college.”\n",
    "“Ich spreche kein Deutsch.”\n",
    "\n",
    "6. IN: Preposition or subordinating conjunction (e.g. “in”, “on”, “before”)\n",
    "\n",
    "“She is hiding under the table.”\n",
    "“I’m going to the store after work.”\\\n",
    "\n",
    "7. JJ: Adjective (e.g. “big”, “small”, “happy”)\n",
    "\n",
    "“He has a big house.”\n",
    "“She is a happy person.”\n",
    "\n",
    "8. JJR: Adjective, comparative (e.g. “bigger”, “smaller”, “happier”)\n",
    "\n",
    "“His house is bigger than hers.”\n",
    "“I’m feeling happier today.”\n",
    "\n",
    "9. JJS: Adjective, superlative (e.g. “biggest”, “smallest”, “happiest”)\n",
    "\n",
    "“His house is the biggest on the block.”\n",
    "“She is the happiest person I know.”\n",
    "\n",
    "10. LS: List item marker (e.g. “1”, “2”, “3”)\n",
    "\n",
    "“Here is a list of things to do: 1) Go to the store, 2) Clean the house, 3) Walk the dog.”\n",
    "“The top three winners are: 1) John, 2) Mary, 3) Tom.”\n",
    "\n",
    "11. MD: Modal (e.g. “can”, “will”, “should”)\n",
    "\n",
    "“I can speak Spanish.”\n",
    "“We should go to the museum.”\n",
    "\n",
    "12. NN: Noun, singular or mass (e.g. “dog”, “book”, “desk”)\n",
    "\n",
    "“I have a dog.”\n",
    "“I’m reading a book.”\n",
    "\n",
    "13. NNS: Noun, plural (e.g. “dogs”, “books”, “desks”)\n",
    "\n",
    "“I have two dogs.”\n",
    "“There are many books on the shelf.”\n",
    "\n",
    "14. NNP: Proper noun, singular (e.g. “John”, “Paris”, “Monday”)\n",
    "\n",
    "“John is coming over.”\n",
    "“I’m going to Paris next month.”\n",
    "\n",
    "15. NNPS: Proper noun, plural (e.g. “Johns”, “Parises”, “Mondays”)\n",
    "\n",
    "“The Johns family is coming over.”\n",
    "“Mondays are the first days of week”\n",
    "\n",
    "16. PDT: Predeterminer (e.g. “all”, “both”)\n",
    "\n",
    "“All the books are on the shelf.”\n",
    "“She has both cats and dogs.”\n",
    "\n",
    "17. POS: Possessive ending (e.g. “‘s”)\n",
    "\n",
    "“The cat’s toy is under the bed.”\n",
    "“His friend’s house is big.”\n",
    "\n",
    "18. PRP: Personal pronoun (e.g. “I”, “you”, “he”)\n",
    "\n",
    "“I am going to the store.”\n",
    "“You are the best.”\n",
    "\n",
    "19. PRP$: Possessive pronoun (e.g. “mine”, “yours”, “his”)\n",
    "\n",
    "“The toy is mine.”\n",
    "“The house is yours.”\n",
    "\n",
    "20. RB: Adverb (e.g. “quickly”, “slowly”, “happily”)\n",
    "\n",
    "“He runs quickly.”\n",
    "“She sings happily.”\n",
    "\n",
    "21. RBR: Adverb, comparative (e.g. “quicker”, “slower”, “happier”)\n",
    "\n",
    "“He runs quicker than his sister.”\n",
    "“She sings happier than before.”\n",
    "\n",
    "22. RBS: Adverb, superlative (e.g. “quickest”, “slowest”, “happiest”)\n",
    "\n",
    "“He is the quickest runner in the race.”\n",
    "“She is the happiest person I know.”\n",
    "\n",
    "23. RP: Particle (e.g. “up”, “off”, “out”)\n",
    "\n",
    "“Turn the lights off.”\n",
    "“She took her jacket off.”\n",
    "\n",
    "24. SYM: Symbol (e.g. “$”, “%”, “&”)\n",
    "\n",
    "“I have $10 in my wallet.”\n",
    "“The sale is 20% off.”\n",
    "\n",
    "25. TO: to (e.g. “to”)\n",
    "\n",
    "“I’m going to the store.”\n",
    "“I have to go to work.”\n",
    "\n",
    "26. UH: Interjection (e.g. “oh”, “um”, “ah”)\n",
    "\n",
    "“Oh no, I forgot my keys.”\n",
    "“Um, I’m not sure.”\n",
    "\n",
    "27. VB: Verb, base form (e.g. “run”, “be”, “have”)\n",
    "\n",
    "“I run every morning.”\n",
    "“She is happy.”\n",
    "\n",
    "28. VBD: Verb, past tense (e.g. “ran”, “was”, “had”)\n",
    "\n",
    "“I ran to the store.”\n",
    "“She was happy.”\n",
    "\n",
    "29. VBG: Verb, gerund or present participle (e.g. “running”, “being”,)\n",
    "\n",
    "“I’m running late.”\n",
    "“She’s always been happy.”\n",
    "\n",
    "30. VBN: Verb, past participle (e.g. “run”, “been”, “had”)\n",
    "\n",
    "“The car has been washed.”\n",
    "“The clothes have been dried.”\n",
    "\n",
    "31. VBP: Verb, non-3rd person singular present (e.g. “run”, “be”, “have”)\n",
    "\n",
    "“I run every morning.”\n",
    "“She is happy.”\n",
    "\n",
    "32. VBZ: Verb, 3rd person singular present (e.g. “runs”, “is”, “has”)\n",
    "\n",
    "“He runs every morning.”\n",
    "“She has a dog.”\n",
    "\n",
    "33. WDT: Wh-determiner (e.g. “which”, “that”)\n",
    "\n",
    "“Which book do you want to read?”\n",
    "“That is the correct answer.”\n",
    "\n",
    "34. WP: Wh-pronoun (e.g. “who”, “what”)\n",
    "\n",
    "“Who is coming to the party?”\n",
    "“What is your name?”\n",
    "\n",
    "35. WP$: Possessive wh-pronoun (e.g. “whose”)\n",
    "\n",
    "“Whose car is this?”\n",
    "“Whose turn is it?”\n",
    "\n",
    "36. WRB: Wh-adverb (e.g. “where”, “when”)\n",
    "\n",
    "“Where are you going?”\n",
    "“When is the party?”"
   ]
  },
  {
   "cell_type": "code",
   "execution_count": 1,
   "metadata": {},
   "outputs": [],
   "source": [
    "## Speech Of DR APJ Abdul Kalam\n",
    "paragraph = \"\"\"I have three visions for India. In 3000 years of our history, people from all over \n",
    "               the world have come and invaded us, captured our lands, conquered our minds. \n",
    "               From Alexander onwards, the Greeks, the Turks, the Moguls, the Portuguese, the British,\n",
    "               the French, the Dutch, all of them came and looted us, took over what was ours. \n",
    "               Yet we have not done this to any other nation. We have not conquered anyone. \n",
    "               We have not grabbed their land, their culture, \n",
    "               their history and tried to enforce our way of life on them. \n",
    "               Why? Because we respect the freedom of others.That is why my \n",
    "               first vision is that of freedom. I believe that India got its first vision of \n",
    "               this in 1857, when we started the War of Independence. It is this freedom that\n",
    "               we must protect and nurture and build on. If we are not free, no one will respect us.\n",
    "               My second vision for India’s development. For fifty years we have been a developing nation.\n",
    "               It is time we see ourselves as a developed nation. We are among the top 5 nations of the world\n",
    "               in terms of GDP. We have a 10 percent growth rate in most areas. Our poverty levels are falling.\n",
    "               Our achievements are being globally recognised today. Yet we lack the self-confidence to\n",
    "               see ourselves as a developed nation, self-reliant and self-assured. Isn’t this incorrect?\n",
    "               I have a third vision. India must stand up to the world. Because I believe that unless India \n",
    "               stands up to the world, no one will respect us. Only strength respects strength. We must be \n",
    "               strong not only as a military power but also as an economic power. Both must go hand-in-hand. \n",
    "               My good fortune was to have worked with three great minds. Dr. Vikram Sarabhai of the Dept. of \n",
    "               space, Professor Satish Dhawan, who succeeded him and Dr. Brahm Prakash, father of nuclear material.\n",
    "               I was lucky to have worked with all three of them closely and consider this the great opportunity of my life. \n",
    "               I see four milestones in my career\"\"\""
   ]
  },
  {
   "cell_type": "code",
   "execution_count": 3,
   "metadata": {},
   "outputs": [],
   "source": [
    "import nltk\n",
    "from nltk.corpus import stopwords\n",
    "sentences=nltk.sent_tokenize(paragraph)"
   ]
  },
  {
   "cell_type": "code",
   "execution_count": 4,
   "metadata": {},
   "outputs": [
    {
     "data": {
      "text/plain": [
       "['I have three visions for India.',\n",
       " 'In 3000 years of our history, people from all over \\n               the world have come and invaded us, captured our lands, conquered our minds.',\n",
       " 'From Alexander onwards, the Greeks, the Turks, the Moguls, the Portuguese, the British,\\n               the French, the Dutch, all of them came and looted us, took over what was ours.',\n",
       " 'Yet we have not done this to any other nation.',\n",
       " 'We have not conquered anyone.',\n",
       " 'We have not grabbed their land, their culture, \\n               their history and tried to enforce our way of life on them.',\n",
       " 'Why?',\n",
       " 'Because we respect the freedom of others.That is why my \\n               first vision is that of freedom.',\n",
       " 'I believe that India got its first vision of \\n               this in 1857, when we started the War of Independence.',\n",
       " 'It is this freedom that\\n               we must protect and nurture and build on.',\n",
       " 'If we are not free, no one will respect us.',\n",
       " 'My second vision for India’s development.',\n",
       " 'For fifty years we have been a developing nation.',\n",
       " 'It is time we see ourselves as a developed nation.',\n",
       " 'We are among the top 5 nations of the world\\n               in terms of GDP.',\n",
       " 'We have a 10 percent growth rate in most areas.',\n",
       " 'Our poverty levels are falling.',\n",
       " 'Our achievements are being globally recognised today.',\n",
       " 'Yet we lack the self-confidence to\\n               see ourselves as a developed nation, self-reliant and self-assured.',\n",
       " 'Isn’t this incorrect?',\n",
       " 'I have a third vision.',\n",
       " 'India must stand up to the world.',\n",
       " 'Because I believe that unless India \\n               stands up to the world, no one will respect us.',\n",
       " 'Only strength respects strength.',\n",
       " 'We must be \\n               strong not only as a military power but also as an economic power.',\n",
       " 'Both must go hand-in-hand.',\n",
       " 'My good fortune was to have worked with three great minds.',\n",
       " 'Dr. Vikram Sarabhai of the Dept.',\n",
       " 'of \\n               space, Professor Satish Dhawan, who succeeded him and Dr. Brahm Prakash, father of nuclear material.',\n",
       " 'I was lucky to have worked with all three of them closely and consider this the great opportunity of my life.',\n",
       " 'I see four milestones in my career']"
      ]
     },
     "execution_count": 4,
     "metadata": {},
     "output_type": "execute_result"
    }
   ],
   "source": [
    "sentences"
   ]
  },
  {
   "cell_type": "code",
   "execution_count": 7,
   "metadata": {},
   "outputs": [
    {
     "name": "stderr",
     "output_type": "stream",
     "text": [
      "[nltk_data] Downloading package averaged_perceptron_tagger_eng to\n",
      "[nltk_data]     C:\\Users\\tejas\\AppData\\Roaming\\nltk_data...\n",
      "[nltk_data]   Unzipping taggers\\averaged_perceptron_tagger_eng.zip.\n"
     ]
    },
    {
     "data": {
      "text/plain": [
       "True"
      ]
     },
     "execution_count": 7,
     "metadata": {},
     "output_type": "execute_result"
    }
   ],
   "source": [
    "nltk.download('averaged_perceptron_tagger_eng')"
   ]
  },
  {
   "cell_type": "code",
   "execution_count": 8,
   "metadata": {},
   "outputs": [
    {
     "name": "stdout",
     "output_type": "stream",
     "text": [
      "[('I', 'PRP'), ('three', 'CD'), ('visions', 'NNS'), ('India', 'NNP'), ('.', '.')]\n",
      "[('In', 'IN'), ('3000', 'CD'), ('years', 'NNS'), ('history', 'NN'), (',', ','), ('people', 'NNS'), ('world', 'NN'), ('come', 'VBP'), ('invaded', 'VBN'), ('us', 'PRP'), (',', ','), ('captured', 'VBD'), ('lands', 'NNS'), (',', ','), ('conquered', 'VBD'), ('minds', 'NNS'), ('.', '.')]\n",
      "[('From', 'IN'), ('Alexander', 'NNP'), ('onwards', 'NNS'), (',', ','), ('Greeks', 'NNP'), (',', ','), ('Turks', 'NNP'), (',', ','), ('Moguls', 'NNP'), (',', ','), ('Portuguese', 'NNP'), (',', ','), ('British', 'NNP'), (',', ','), ('French', 'NNP'), (',', ','), ('Dutch', 'NNP'), (',', ','), ('came', 'VBD'), ('looted', 'JJ'), ('us', 'PRP'), (',', ','), ('took', 'VBD'), ('.', '.')]\n",
      "[('Yet', 'RB'), ('done', 'VBN'), ('nation', 'NN'), ('.', '.')]\n",
      "[('We', 'PRP'), ('conquered', 'VBD'), ('anyone', 'NN'), ('.', '.')]\n",
      "[('We', 'PRP'), ('grabbed', 'VBD'), ('land', 'NN'), (',', ','), ('culture', 'NN'), (',', ','), ('history', 'NN'), ('tried', 'VBD'), ('enforce', 'JJ'), ('way', 'NN'), ('life', 'NN'), ('.', '.')]\n",
      "[('Why', 'WRB'), ('?', '.')]\n",
      "[('Because', 'IN'), ('respect', 'NN'), ('freedom', 'NN'), ('others.That', 'IN'), ('first', 'JJ'), ('vision', 'NN'), ('freedom', 'NN'), ('.', '.')]\n",
      "[('I', 'PRP'), ('believe', 'VBP'), ('India', 'NNP'), ('got', 'VBD'), ('first', 'JJ'), ('vision', 'NN'), ('1857', 'CD'), (',', ','), ('started', 'VBD'), ('War', 'NNP'), ('Independence', 'NNP'), ('.', '.')]\n",
      "[('It', 'PRP'), ('freedom', 'NN'), ('must', 'MD'), ('protect', 'VB'), ('nurture', 'NN'), ('build', 'NN'), ('.', '.')]\n",
      "[('If', 'IN'), ('free', 'JJ'), (',', ','), ('one', 'CD'), ('respect', 'NN'), ('us', 'PRP'), ('.', '.')]\n",
      "[('My', 'PRP$'), ('second', 'JJ'), ('vision', 'NN'), ('India', 'NNP'), ('’', 'NNP'), ('development', 'NN'), ('.', '.')]\n",
      "[('For', 'IN'), ('fifty', 'JJ'), ('years', 'NNS'), ('developing', 'VBG'), ('nation', 'NN'), ('.', '.')]\n",
      "[('It', 'PRP'), ('time', 'NN'), ('see', 'VB'), ('developed', 'JJ'), ('nation', 'NN'), ('.', '.')]\n",
      "[('We', 'PRP'), ('among', 'IN'), ('top', 'JJ'), ('5', 'CD'), ('nations', 'NNS'), ('world', 'NN'), ('terms', 'NNS'), ('GDP', 'NNP'), ('.', '.')]\n",
      "[('We', 'PRP'), ('10', 'CD'), ('percent', 'JJ'), ('growth', 'NN'), ('rate', 'NN'), ('areas', 'NNS'), ('.', '.')]\n",
      "[('Our', 'PRP$'), ('poverty', 'NN'), ('levels', 'NNS'), ('falling', 'VBG'), ('.', '.')]\n",
      "[('Our', 'PRP$'), ('achievements', 'NNS'), ('globally', 'RB'), ('recognised', 'VBN'), ('today', 'NN'), ('.', '.')]\n",
      "[('Yet', 'RB'), ('lack', 'JJ'), ('self-confidence', 'NN'), ('see', 'NN'), ('developed', 'JJ'), ('nation', 'NN'), (',', ','), ('self-reliant', 'JJ'), ('self-assured', 'JJ'), ('.', '.')]\n",
      "[('Isn', 'NNP'), ('’', 'NNP'), ('incorrect', 'NN'), ('?', '.')]\n",
      "[('I', 'PRP'), ('third', 'JJ'), ('vision', 'NN'), ('.', '.')]\n",
      "[('India', 'NNP'), ('must', 'MD'), ('stand', 'VB'), ('world', 'NN'), ('.', '.')]\n",
      "[('Because', 'IN'), ('I', 'PRP'), ('believe', 'VBP'), ('unless', 'IN'), ('India', 'NNP'), ('stands', 'VBZ'), ('world', 'NN'), (',', ','), ('one', 'CD'), ('respect', 'NN'), ('us', 'PRP'), ('.', '.')]\n",
      "[('Only', 'RB'), ('strength', 'NN'), ('respects', 'NNS'), ('strength', 'NN'), ('.', '.')]\n",
      "[('We', 'PRP'), ('must', 'MD'), ('strong', 'JJ'), ('military', 'JJ'), ('power', 'NN'), ('also', 'RB'), ('economic', 'JJ'), ('power', 'NN'), ('.', '.')]\n",
      "[('Both', 'DT'), ('must', 'MD'), ('go', 'VB'), ('hand-in-hand', 'NN'), ('.', '.')]\n",
      "[('My', 'PRP$'), ('good', 'JJ'), ('fortune', 'NN'), ('worked', 'VBD'), ('three', 'CD'), ('great', 'JJ'), ('minds', 'NNS'), ('.', '.')]\n",
      "[('Dr.', 'NNP'), ('Vikram', 'NNP'), ('Sarabhai', 'NNP'), ('Dept', 'NNP'), ('.', '.')]\n",
      "[('space', 'NN'), (',', ','), ('Professor', 'NNP'), ('Satish', 'NNP'), ('Dhawan', 'NNP'), (',', ','), ('succeeded', 'VBD'), ('Dr.', 'NNP'), ('Brahm', 'NNP'), ('Prakash', 'NNP'), (',', ','), ('father', 'RB'), ('nuclear', 'JJ'), ('material', 'NN'), ('.', '.')]\n",
      "[('I', 'PRP'), ('lucky', 'VBP'), ('worked', 'VBD'), ('three', 'CD'), ('closely', 'RB'), ('consider', 'VBP'), ('great', 'JJ'), ('opportunity', 'NN'), ('life', 'NN'), ('.', '.')]\n",
      "[('I', 'PRP'), ('see', 'VBP'), ('four', 'CD'), ('milestones', 'NNS'), ('career', 'NN')]\n"
     ]
    }
   ],
   "source": [
    "## We will find the Pos Tag\n",
    "\n",
    "for i in range(len(sentences)):\n",
    "    words=nltk.word_tokenize(sentences[i])\n",
    "    words=[word for word in words if word not in set(stopwords.words('english'))]\n",
    "    #sentences[i]=' '.join(words)# converting all the list of words into sentences\n",
    "    pos_tag=nltk.pos_tag(words)\n",
    "    print(pos_tag)"
   ]
  },
  {
   "cell_type": "code",
   "execution_count": 9,
   "metadata": {},
   "outputs": [
    {
     "data": {
      "text/plain": [
       "['Taj', 'Mahal', 'is', 'a', 'beautiful', 'Monument']"
      ]
     },
     "execution_count": 9,
     "metadata": {},
     "output_type": "execute_result"
    }
   ],
   "source": [
    "\"Taj Mahal is a beautiful Monument\".split()"
   ]
  },
  {
   "cell_type": "code",
   "execution_count": 10,
   "metadata": {},
   "outputs": [
    {
     "name": "stdout",
     "output_type": "stream",
     "text": [
      "[('Taj', 'NNP'), ('Mahal', 'NNP'), ('is', 'VBZ'), ('a', 'DT'), ('beautiful', 'JJ'), ('Monument', 'NN')]\n"
     ]
    }
   ],
   "source": [
    "print(nltk.pos_tag(\"Taj Mahal is a beautiful Monument\".split()))"
   ]
  }
 ],
 "metadata": {
  "kernelspec": {
   "display_name": "venv",
   "language": "python",
   "name": "python3"
  },
  "language_info": {
   "codemirror_mode": {
    "name": "ipython",
    "version": 3
   },
   "file_extension": ".py",
   "mimetype": "text/x-python",
   "name": "python",
   "nbconvert_exporter": "python",
   "pygments_lexer": "ipython3",
   "version": "3.12.0"
  }
 },
 "nbformat": 4,
 "nbformat_minor": 2
}
